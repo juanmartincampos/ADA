{
 "cells": [
  {
   "cell_type": "code",
   "execution_count": null,
   "metadata": {},
   "outputs": [
    {
     "ename": "",
     "evalue": "",
     "output_type": "error",
     "traceback": [
      "\u001b[1;31mRunning cells with 'antneuro2 (Python 3.7.1)' requires the ipykernel package.\n",
      "\u001b[1;31mRun the following command to install 'ipykernel' into the Python environment. \n",
      "\u001b[1;31mCommand: 'conda install -n antneuro2 ipykernel --update-deps --force-reinstall'"
     ]
    }
   ],
   "source": [
    "import os\n",
    "import pyxdf\n",
    "import matplotlib.pyplot as plt\n",
    "import numpy as np\n",
    "import pandas as pd\n",
    "from scipy.signal import filtfilt, iirnotch, detrend, butter, cheby1, lfilter\n",
    "import digital_processing as dp\n",
    "import feature_extraction as fe\n",
    "\n",
    "def bandpass_filter(input_signal, sr, lowcut, highcut, order=5):\n",
    "    \n",
    "    nyq = 0.5 * sr # Nyquist frequency\n",
    "    low = lowcut / nyq\n",
    "    high = highcut / nyq\n",
    "    b, a = butter(order, [low, high], btype=\"band\")\n",
    "    output_signal = filtfilt(b, a, input_signal)\n",
    "    \n",
    "    return output_signal\n",
    "\n",
    "def filter_signals(emg_stream):\n",
    "    # Set variables\n",
    "    l_bandpass = 10\n",
    "    h_bandpass = 400\n",
    "    sample_rate = int(emg_stream['info']['nominal_srate'][0])\n",
    "\n",
    "    # Get signal information from the XDF file and apply filters\n",
    "    l_ear_emg = emg_stream[\"time_series\"][:, 0] - emg_stream[\"time_series\"][:, 1] # Left ear EMG\n",
    "    l_ear_emg = bandpass_filter(detrend(l_ear_emg), sample_rate, l_bandpass, h_bandpass)\n",
    "\n",
    "    r_ear_emg = emg_stream[\"time_series\"][:, 2] - emg_stream[\"time_series\"][:, 3] # Right ear EMG\n",
    "    r_ear_emg = bandpass_filter(detrend(r_ear_emg), sample_rate, l_bandpass, h_bandpass)\n",
    "\n",
    "    return l_ear_emg, r_ear_emg\n",
    "\n",
    "def plot_signal(signal, n_ear = \"\"):\n",
    "    # Plot signals\n",
    "    plt.figure(figsize=(10,3))\n",
    "\n",
    "    plt.plot(signal)\n",
    "    plt.title(f\"{n_ear.capitalize()} Ear\")\n",
    "\n",
    "    plt.show()\n",
    "\n",
    "def structure_data(emg_stream, EMGinfo_stream, ear_class, ear_emg, sample_rate, time_window=0.5):\n",
    "\n",
    "    if emg_stream[\"time_stamps\"][0] - EMGinfo_stream[\"time_stamps\"][0] > 0: # This condition is true when EMG signal starts recording AFTER the classification, which makes no sense\n",
    "\n",
    "        # Find the closest timestamp in the EMGinfo stream to the first timestamp in the EMG stream\n",
    "        emg_first_timestamp = emg_stream[\"time_stamps\"][0]\n",
    "        emginfo_timestamps = EMGinfo_stream[\"time_stamps\"]\n",
    "\n",
    "        closest_index = np.abs(emginfo_timestamps - emg_first_timestamp).argmin()\n",
    "        print(f\"EMG stream starts after classification stream. Closest index: {closest_index}\")\n",
    "    else:\n",
    "        closest_index = 0\n",
    "        print(f\"EMG stream starts at the same time as the classification stream. Closest index: {closest_index}\")\n",
    "    \n",
    "    \n",
    "    # This code will extract a window of EMG data before each class label in the EMGinfo stream and store it in a DataFrame\n",
    "    # Corresponding number of samples based on frequency and the time window\n",
    "    samples_window = int(sample_rate * time_window)\n",
    "\n",
    "    # Create an empty DataFrame\n",
    "    columns = ['class_label'] + [\"stream_idx\"] + [f'emg_{i}' for i in range(samples_window)]\n",
    "    df = pd.DataFrame(columns=columns)\n",
    "\n",
    "    for class_time, class_label in zip(EMGinfo_stream['time_stamps'][closest_index:], ear_class):\n",
    "        # Find the closest timestamp in the EMG stream\n",
    "        idx = np.abs(emg_stream['time_stamps'] - class_time).argmin()\n",
    "        \n",
    "        # Check if we can extract a full window of data without going out of bounds\n",
    "        if idx >= samples_window:\n",
    "            # Extract EMG data for the window\n",
    "            emg_data_window = ear_emg[idx - samples_window:idx]\n",
    "            \n",
    "            # Append to the DataFrame\n",
    "            row_data = [class_label] + [idx] + emg_data_window.tolist()\n",
    "            df.loc[len(df)] = row_data\n",
    "    \n",
    "    return df\n",
    "\n",
    "def get_features(ear_df, sample_rate, time_window=0.5, name=\"\"):\n",
    "\n",
    "    frame = int(time_window*sample_rate) # Number of samples in the time window\n",
    "\n",
    "    ear_df_values = ear_df.iloc[:, 2:].values # Get the values of the EMG data from the 2nd column onwards\n",
    "\n",
    "    output_df = pd.DataFrame()  # Create an empty dataframe to store the outputs\n",
    "\n",
    "    for row in ear_df_values:\n",
    "        features_df, _ = fe.features_estimation(row, name, sample_rate, frame, 1, plot=False, verbose=False)  # Call the features_estimation function\n",
    "        output_df = pd.concat([output_df, features_df], axis=1)  # Concatenate the features dataframe to the output dataframe column by column\n",
    "\n",
    "    return pd.concat([ear_df.reset_index(drop=True), output_df.T.reset_index(drop=True)], axis=1) # Concatenate the output dataframe with the original dataframe\n",
    "\n",
    "def filter_signals_2(emg_stream):\n",
    "\n",
    "    # Set variables\n",
    "    l_bandpass = 10\n",
    "    h_bandpass = 400\n",
    "    sample_rate = int(emg_stream['info']['nominal_srate'][0])\n",
    "\n",
    "    l_ear_emg = emg_stream[\"time_series\"][:, 0] - emg_stream[\"time_series\"][:, 1] # Left ear EMG\n",
    "    r_ear_emg = emg_stream[\"time_series\"][:, 2] - emg_stream[\"time_series\"][:, 3] # Right ear EM\n",
    "\n",
    "    # Filter the 50Hz armonics (50, 100, 150, 200 Hz)\n",
    "    for i in range(50, 250, 50):\n",
    "        l_ear_notch = dp.notch_filter(l_ear_emg, sample_rate, i, False)\n",
    "        r_ear_notch = dp.notch_filter(r_ear_emg, sample_rate, i, False)\n",
    "\n",
    "    # Apply bandpass filters \n",
    "    l_ear_bandpass = dp.bp_filter(l_ear_notch, l_bandpass, h_bandpass, sample_rate, False)\n",
    "    r_ear_bandpass = dp.bp_filter(r_ear_notch, l_bandpass, h_bandpass, sample_rate, False)\n",
    "\n",
    "    # Apply wavelet denoising\n",
    "    l_ear_denoise = dp.denoisewavelet(l_ear_bandpass)\n",
    "    r_ear_denoise = dp.denoisewavelet(r_ear_bandpass)\n",
    "\n",
    "    return l_ear_denoise, r_ear_denoise\n",
    "\n",
    "def process_xdf(path):\n",
    "    \n",
    "    folders = path.split(\"/\")[:-1]\n",
    "    folder = \"/\".join(folders)\n",
    "    \n",
    "    csv_file_l = folder + '/l_ear_features_' + folders[-1] + '.csv'\n",
    "    csv_file_r = folder + '/r_ear_features_' + folders[-1] + '.csv'\n",
    "\n",
    "    print(f\"Data in folder {folder} is being processed.\")\n",
    "\n",
    "    print(\"Checking if csv files exist.\")\n",
    "    if os.path.exists(csv_file_l) and os.path.exists(csv_file_r):\n",
    "        print(\"Files exist. Loading csv files.\")\n",
    "        l_ear_features_df = pd.read_csv(csv_file_l)\n",
    "        r_ear_features_df = pd.read_csv(csv_file_r)\n",
    "    \n",
    "    else:\n",
    "        print(\"Files do not exist. Creating csv files.\")\n",
    "        data, _ = pyxdf.load_xdf(path)\n",
    "\n",
    "        EMGinfo_stream = [stream for stream in data if stream[\"info\"][\"name\"][0] == \"EMGinfo\"][0]\n",
    "        emg_stream = [stream for stream in data if \"eegoSports \" in stream[\"info\"][\"name\"][0]][0]\n",
    "\n",
    "        sample_rate = int(emg_stream['info']['nominal_srate'][0])\n",
    "        time_window = 0.5\n",
    "\n",
    "        l_ear_emg, r_ear_emg = filter_signals_2(emg_stream)\n",
    "        l_ear_class = EMGinfo_stream[\"time_series\"][:, 6]\n",
    "        r_ear_class = EMGinfo_stream[\"time_series\"][:, 7]\n",
    "\n",
    "        l_ear_df = structure_data(emg_stream, EMGinfo_stream, ear_class=l_ear_class, ear_emg=l_ear_emg, sample_rate=sample_rate)\n",
    "        r_ear_df = structure_data(emg_stream, EMGinfo_stream, ear_class=r_ear_class, ear_emg=r_ear_emg, sample_rate=sample_rate)\n",
    "\n",
    "        l_ear_features_df = get_features(l_ear_df, sample_rate, time_window, \"left\")\n",
    "        r_ear_features_df = get_features(r_ear_df, sample_rate, time_window, \"right\")\n",
    "        l_ear_features_df.to_csv(folder + '/l_ear_features_' + folders[-1] + '.csv', index=False)\n",
    "        r_ear_features_df.to_csv(folder + '/r_ear_features_' + folders[-1] + '.csv', index=False)\n",
    "\n",
    "    return l_ear_features_df, r_ear_features_df\n",
    "\n"
   ]
  },
  {
   "cell_type": "code",
   "execution_count": null,
   "metadata": {},
   "outputs": [
    {
     "ename": "",
     "evalue": "",
     "output_type": "error",
     "traceback": [
      "\u001b[1;31mRunning cells with 'antneuro2 (Python 3.7.16)' requires the ipykernel package.\n",
      "\u001b[1;31mRun the following command to install 'ipykernel' into the Python environment. \n",
      "\u001b[1;31mCommand: 'conda install -n antneuro2 ipykernel --update-deps --force-reinstall'"
     ]
    }
   ],
   "source": [
    "for i in range(4, 10):\n",
    "    if i == 5:\n",
    "        continue\n",
    "    path = \"Data/s\" + str(i) + \"/sub-AM001_s\" + str(i) + \"_task6.xdf\"\n",
    "    print(f\"Processing {path}\")\n",
    "    process_xdf(path)\n"
   ]
  },
  {
   "cell_type": "code",
   "execution_count": null,
   "metadata": {},
   "outputs": [
    {
     "ename": "",
     "evalue": "",
     "output_type": "error",
     "traceback": [
      "\u001b[1;31mRunning cells with 'antneuro2 (Python 3.7.12)' requires the ipykernel package.\n",
      "\u001b[1;31mRun the following command to install 'ipykernel' into the Python environment. \n",
      "\u001b[1;31mCommand: 'conda install -n antneuro2 ipykernel --update-deps --force-reinstall'"
     ]
    }
   ],
   "source": [
    "a, b = process_xdf(\"Data/s2/sub-AM001_s2_task6.xdf\")"
   ]
  },
  {
   "cell_type": "code",
   "execution_count": null,
   "metadata": {},
   "outputs": [
    {
     "ename": "",
     "evalue": "",
     "output_type": "error",
     "traceback": [
      "\u001b[1;31mRunning cells with 'antneuro2 (Python 3.7.12)' requires the ipykernel package.\n",
      "\u001b[1;31mRun the following command to install 'ipykernel' into the Python environment. \n",
      "\u001b[1;31mCommand: 'conda install -n antneuro2 ipykernel --update-deps --force-reinstall'"
     ]
    }
   ],
   "source": [
    "data, header = pyxdf.load_xdf(\"Data/s2/sub-AM001_s2_task6.xdf\")\n",
    "\n",
    "EMGinfo_stream = [stream for stream in data if stream[\"info\"][\"name\"][0] == \"EMGinfo\"][0]\n",
    "emg_stream = [stream for stream in data if \"eegoSports \" in stream[\"info\"][\"name\"][0]][0]\n",
    "\n",
    "sample_rate = int(emg_stream['info']['nominal_srate'][0])\n",
    "\n",
    "l_ear_emg, r_ear_emg = filter_signals_2(emg_stream)\n",
    "l_ear_class = EMGinfo_stream[\"time_series\"][:, 6]\n",
    "r_ear_class = EMGinfo_stream[\"time_series\"][:, 7]\n",
    "plot_signal(l_ear_emg, \"left\")\n",
    "plot_signal(r_ear_emg, \"right\")"
   ]
  },
  {
   "cell_type": "markdown",
   "metadata": {},
   "source": [
    "Comparison with the filters I made:\n",
    "\n",
    "\n",
    "<img src=\"./My_filter_comparison.png\" width=\"640\" height=\"360\" />"
   ]
  },
  {
   "cell_type": "code",
   "execution_count": null,
   "metadata": {},
   "outputs": [
    {
     "ename": "",
     "evalue": "",
     "output_type": "error",
     "traceback": [
      "\u001b[1;31mRunning cells with 'antneuro2 (Python 3.7.12)' requires the ipykernel package.\n",
      "\u001b[1;31mRun the following command to install 'ipykernel' into the Python environment. \n",
      "\u001b[1;31mCommand: 'conda install -n antneuro2 ipykernel --update-deps --force-reinstall'"
     ]
    }
   ],
   "source": [
    "# Signal processing (testing to see if the functions work as expected)\n",
    "\n",
    "test_signal = emg_stream[\"time_series\"][:, 1] - emg_stream[\"time_series\"][:, 2] # Right ear EMG\n",
    "plot_signal(test_signal, \"original\")\n",
    "\n",
    "test_notch = dp.notch_filter(test_signal, sample_rate, 50, False)\n",
    "test_notch = dp.notch_filter(test_signal, sample_rate, 100, False)\n",
    "test_notch = dp.notch_filter(test_signal, sample_rate, 150, False)\n",
    "test_notch = dp.notch_filter(test_signal, sample_rate, 200, False)\n",
    "# plot_signal(test_notch, \"notch on 50Hz armonics\")\n",
    "\n",
    "test_bandpass = dp.bp_filter(test_signal, 10, 400, sample_rate, False)\n",
    "# plot_signal(test_bandpass, \"bp on original\")\n",
    "\n",
    "test_bp_notch = dp.bp_filter(test_notch, 10, 400, sample_rate, False)\n",
    "plot_signal(test_bp_notch, \"bp after notch\")\n",
    "\n",
    "test_denoise = dp.denoisewavelet(test_bandpass)\n",
    "plot_signal(test_denoise, \"denoise\")\n"
   ]
  },
  {
   "cell_type": "code",
   "execution_count": null,
   "metadata": {},
   "outputs": [
    {
     "ename": "",
     "evalue": "",
     "output_type": "error",
     "traceback": [
      "\u001b[1;31mRunning cells with 'antneuro2 (Python 3.7.12)' requires the ipykernel package.\n",
      "\u001b[1;31mRun the following command to install 'ipykernel' into the Python environment. \n",
      "\u001b[1;31mCommand: 'conda install -n antneuro2 ipykernel --update-deps --force-reinstall'"
     ]
    }
   ],
   "source": [
    "# Create DataFrames with a 500ms window of EMG data before each class label\n",
    "\n",
    "# l_ear_df = structure_data(emg_stream, EMGinfo_stream, ear_class=l_ear_class, ear_emg=l_ear_emg, sample_rate=sample_rate)\n",
    "# display(l_ear_df)\n",
    "# l_ear_df.to_csv('l_ear_df.csv', index=False)\n",
    "\n",
    "# r_ear_df = structure_data(emg_stream, EMGinfo_stream, ear_class=r_ear_class, ear_emg=r_ear_emg, sample_rate=sample_rate)\n",
    "# display(r_ear_df)\n",
    "# r_ear_df.to_csv('r_ear_df.csv', index=False)"
   ]
  },
  {
   "cell_type": "code",
   "execution_count": null,
   "metadata": {},
   "outputs": [
    {
     "ename": "",
     "evalue": "",
     "output_type": "error",
     "traceback": [
      "\u001b[1;31mRunning cells with 'antneuro2 (Python 3.7.12)' requires the ipykernel package.\n",
      "\u001b[1;31mRun the following command to install 'ipykernel' into the Python environment. \n",
      "\u001b[1;31mCommand: 'conda install -n antneuro2 ipykernel --update-deps --force-reinstall'"
     ]
    }
   ],
   "source": [
    "# Load the DataFrames and display the first rows\n",
    "l_ear_df = pd.read_csv('l_ear_df.csv')\n",
    "r_ear_df = pd.read_csv('r_ear_df.csv')\n",
    "# display(l_ear_df)\n",
    "# display(r_ear_df)\n",
    "\n",
    "# l_ear_features_df = get_features(l_ear_df, sample_rate, 0.5, \"left\")\n",
    "# r_ear_features_df = get_features(r_ear_df, sample_rate, 0.5, \"right\")\n",
    "# l_ear_features_df.to_csv('l_ear_features_df.csv', index=False)\n",
    "# r_ear_features_df.to_csv('r_ear_features_df.csv', index=False)\n"
   ]
  },
  {
   "cell_type": "code",
   "execution_count": null,
   "metadata": {},
   "outputs": [
    {
     "ename": "",
     "evalue": "",
     "output_type": "error",
     "traceback": [
      "\u001b[1;31mRunning cells with 'antneuro2 (Python 3.7.12)' requires the ipykernel package.\n",
      "\u001b[1;31mRun the following command to install 'ipykernel' into the Python environment. \n",
      "\u001b[1;31mCommand: 'conda install -n antneuro2 ipykernel --update-deps --force-reinstall'"
     ]
    }
   ],
   "source": [
    "l_ear_features_df = pd.read_csv('l_ear_features_df.csv')\n",
    "r_ear_features_df = pd.read_csv('r_ear_features_df.csv')\n",
    "\n",
    "display(l_ear_features_df)\n",
    "display(r_ear_features_df)"
   ]
  },
  {
   "cell_type": "code",
   "execution_count": null,
   "metadata": {},
   "outputs": [
    {
     "ename": "",
     "evalue": "",
     "output_type": "error",
     "traceback": [
      "\u001b[1;31mRunning cells with 'antneuro2 (Python 3.7.12)' requires the ipykernel package.\n",
      "\u001b[1;31mRun the following command to install 'ipykernel' into the Python environment. \n",
      "\u001b[1;31mCommand: 'conda install -n antneuro2 ipykernel --update-deps --force-reinstall'"
     ]
    }
   ],
   "source": [
    "from sklearn.discriminant_analysis import LinearDiscriminantAnalysis\n",
    "from sklearn.model_selection import train_test_split\n",
    "from sklearn.model_selection import cross_val_score\n",
    "from sklearn import svm\n",
    "\n",
    "for i in range(2, 10):\n",
    "    if i == 5:\n",
    "        continue\n",
    "    path = \"Data/s\" + str(i) + \"/sub-AM001_s\" + str(i) + \"_task6.xdf\"\n",
    "    print(f\"Processing {path}\")\n",
    "\n",
    "    l_ear_features_df, r_ear_features_df = process_xdf(path)\n",
    "\n",
    "    X = l_ear_features_df.iloc[:, 1002:]\n",
    "    y = l_ear_features_df['class_label'].values\n",
    "    X_train, X_test, y_train, y_test = train_test_split(X, y, test_size=0.2)\n",
    "\n",
    "    lda = LinearDiscriminantAnalysis()\n",
    "    lda.fit(X_train, y_train)\n",
    "    lda_score = cross_val_score(lda, X_test, y_test, cv=50, scoring=\"accuracy\")\n",
    "    print(\"Precision with LDA: %0.2f (+/- %0.2f)\" % (lda_score.mean(), lda_score.std() * 2))\n",
    "\n",
    "    svm_clf = svm.SVC(decision_function_shape=\"ovo\") # One vs One\n",
    "    svm_clf.fit(X_train, y_train)\n",
    "    svm_score = cross_val_score(svm_clf, X_test, y_test, cv=50, scoring=\"accuracy\")\n",
    "    print(\"Precision with SVM (One vs one): %0.2f (+/- %0.2f)\" % (svm_score.mean(), svm_score.std() * 2))\n",
    "\n",
    "    svm_clf = svm.SVC(decision_function_shape=\"ovr\") # One vs Rest\n",
    "    svm_clf.fit(X_train, y_train)\n",
    "    svm_score = cross_val_score(svm_clf, X_test, y_test, cv=50, scoring=\"accuracy\")\n",
    "    print(\"Precision with SVM (One vs rest): %0.2f (+/- %0.2f)\" % (svm_score.mean(), svm_score.std() * 2))\n",
    "    print(\"\\n\")\n",
    "\n"
   ]
  },
  {
   "cell_type": "code",
   "execution_count": null,
   "metadata": {},
   "outputs": [
    {
     "ename": "",
     "evalue": "",
     "output_type": "error",
     "traceback": [
      "\u001b[1;31mRunning cells with 'antneuro2 (Python 3.7.12)' requires the ipykernel package.\n",
      "\u001b[1;31mRun the following command to install 'ipykernel' into the Python environment. \n",
      "\u001b[1;31mCommand: 'conda install -n antneuro2 ipykernel --update-deps --force-reinstall'"
     ]
    }
   ],
   "source": [
    "# from sklearn.feature_selection import RFECV\n",
    "# from sklearn.svm import SVR\n",
    "\n",
    "\n",
    "# l_ear_features_df, r_ear_features_df = process_xdf(\"Data/s2/sub-AM001_s2_task6.xdf\")\n",
    "# X = l_ear_features_df.iloc[:, 2:]\n",
    "# y = l_ear_features_df['class_label'].values\n",
    "\n",
    "# X_train, X_test, y_train, y_test = train_test_split(X, y, test_size=0.2)\n",
    "\n",
    "# estimator = svm.SVC(decision_function_shape=\"ovr\", kernel=\"linear\")\n",
    "# selector = RFECV(estimator, step=1, cv=5)\n",
    "# selector = selector.fit(X_train, y_train)\n",
    "# selector.support_\n",
    "# selector.ranking_"
   ]
  }
 ],
 "metadata": {
  "kernelspec": {
   "display_name": "antneuro",
   "language": "python",
   "name": "python3"
  },
  "language_info": {
   "codemirror_mode": {
    "name": "ipython",
    "version": 3
   },
   "file_extension": ".py",
   "mimetype": "text/x-python",
   "name": "python",
   "nbconvert_exporter": "python",
   "pygments_lexer": "ipython3",
   "version": "3.7.1"
  }
 },
 "nbformat": 4,
 "nbformat_minor": 2
}
